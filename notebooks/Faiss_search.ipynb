{
 "cells": [
  {
   "cell_type": "markdown",
   "metadata": {},
   "source": [
    "## Install and import bibraries"
   ]
  },
  {
   "cell_type": "code",
   "execution_count": null,
   "metadata": {},
   "outputs": [
    {
     "name": "stdout",
     "output_type": "stream",
     "text": [
      "Collecting faiss-cpu==1.8.0\n",
      "  Downloading faiss_cpu-1.8.0-cp310-cp310-win_amd64.whl.metadata (3.8 kB)\n",
      "Requirement already satisfied: numpy in d:\\asus\\ungdung\\miniconda\\workspace\\envs\\aioex\\lib\\site-packages (from faiss-cpu==1.8.0) (1.26.3)\n",
      "Downloading faiss_cpu-1.8.0-cp310-cp310-win_amd64.whl (14.5 MB)\n",
      "   ---------------------------------------- 0.0/14.5 MB ? eta -:--:--\n",
      "    --------------------------------------- 0.3/14.5 MB ? eta -:--:--\n",
      "   - -------------------------------------- 0.5/14.5 MB 1.4 MB/s eta 0:00:11\n",
      "   -- ------------------------------------- 0.8/14.5 MB 1.4 MB/s eta 0:00:10\n",
      "   ---- ----------------------------------- 1.6/14.5 MB 2.0 MB/s eta 0:00:07\n",
      "   ----- ---------------------------------- 2.1/14.5 MB 2.1 MB/s eta 0:00:06\n",
      "   -------- ------------------------------- 3.1/14.5 MB 2.8 MB/s eta 0:00:05\n",
      "   ------------ --------------------------- 4.5/14.5 MB 3.3 MB/s eta 0:00:04\n",
      "   -------------- ------------------------- 5.2/14.5 MB 3.5 MB/s eta 0:00:03\n",
      "   ---------------- ----------------------- 6.0/14.5 MB 3.4 MB/s eta 0:00:03\n",
      "   ------------------- -------------------- 7.1/14.5 MB 3.6 MB/s eta 0:00:03\n",
      "   ----------------------- ---------------- 8.4/14.5 MB 3.9 MB/s eta 0:00:02\n",
      "   --------------------------- ------------ 10.0/14.5 MB 4.2 MB/s eta 0:00:02\n",
      "   ---------------------------- ----------- 10.5/14.5 MB 4.2 MB/s eta 0:00:01\n",
      "   ------------------------------- -------- 11.3/14.5 MB 4.0 MB/s eta 0:00:01\n",
      "   ----------------------------------- ---- 12.8/14.5 MB 4.2 MB/s eta 0:00:01\n",
      "   ---------------------------------------  14.4/14.5 MB 4.4 MB/s eta 0:00:01\n",
      "   ---------------------------------------- 14.5/14.5 MB 4.4 MB/s eta 0:00:00\n",
      "Installing collected packages: faiss-cpu\n",
      "Successfully installed faiss-cpu-1.8.0\n"
     ]
    }
   ],
   "source": [
    "# ! pip install faiss-cpu==1.8.0"
   ]
  },
  {
   "cell_type": "code",
   "execution_count": 6,
   "metadata": {},
   "outputs": [
    {
     "name": "stderr",
     "output_type": "stream",
     "text": [
      "d:\\Asus\\Ungdung\\Miniconda\\workspace\\envs\\AIOEx\\lib\\site-packages\\tqdm\\auto.py:21: TqdmWarning: IProgress not found. Please update jupyter and ipywidgets. See https://ipywidgets.readthedocs.io/en/stable/user_install.html\n",
      "  from .autonotebook import tqdm as notebook_tqdm\n"
     ]
    }
   ],
   "source": [
    "import numpy as np\n",
    "import collections\n",
    "import torch\n",
    "import faiss\n",
    "import evaluate\n",
    "\n",
    "from datasets import load_dataset\n",
    "from transformers import AutoTokenizer, AutoModel\n",
    "from transformers import AutoModelForQuestionAnswering\n",
    "from transformers import TrainingArguments\n",
    "from transformers import Trainer\n",
    "from tqdm.auto import tqdm\n",
    "\n",
    "device = torch.device(\n",
    "    \"cuda\") if torch.cuda.is_available() else torch.device(\"cpu\")"
   ]
  },
  {
   "cell_type": "markdown",
   "metadata": {},
   "source": [
    "## Download dataset"
   ]
  },
  {
   "cell_type": "code",
   "execution_count": 7,
   "metadata": {},
   "outputs": [
    {
     "data": {
      "text/plain": [
       "DatasetDict({\n",
       "    train: Dataset({\n",
       "        features: ['id', 'title', 'context', 'question', 'answers'],\n",
       "        num_rows: 130319\n",
       "    })\n",
       "    validation: Dataset({\n",
       "        features: ['id', 'title', 'context', 'question', 'answers'],\n",
       "        num_rows: 11873\n",
       "    })\n",
       "})"
      ]
     },
     "execution_count": 7,
     "metadata": {},
     "output_type": "execute_result"
    }
   ],
   "source": [
    "DATASET_NAME = \"rajpurkar/squad_v2\"\n",
    "raw_datasets = load_dataset(DATASET_NAME)\n",
    "raw_datasets"
   ]
  },
  {
   "cell_type": "code",
   "execution_count": 8,
   "metadata": {},
   "outputs": [
    {
     "data": {
      "text/plain": [
       "{'id': '56be85543aeaaa14008c9063',\n",
       " 'title': 'Beyoncé',\n",
       " 'context': 'Beyoncé Giselle Knowles-Carter (/biːˈjɒnseɪ/ bee-YON-say) (born September 4, 1981) is an American singer, songwriter, record producer and actress. Born and raised in Houston, Texas, she performed in various singing and dancing competitions as a child, and rose to fame in the late 1990s as lead singer of R&B girl-group Destiny\\'s Child. Managed by her father, Mathew Knowles, the group became one of the world\\'s best-selling girl groups of all time. Their hiatus saw the release of Beyoncé\\'s debut album, Dangerously in Love (2003), which established her as a solo artist worldwide, earned five Grammy Awards and featured the Billboard Hot 100 number-one singles \"Crazy in Love\" and \"Baby Boy\".',\n",
       " 'question': 'When did Beyonce start becoming popular?',\n",
       " 'answers': {'text': ['in the late 1990s'], 'answer_start': [269]}}"
      ]
     },
     "execution_count": 8,
     "metadata": {},
     "output_type": "execute_result"
    }
   ],
   "source": [
    "raw_datasets['train'][0]"
   ]
  },
  {
   "cell_type": "markdown",
   "metadata": {},
   "source": [
    "## Preprocessing"
   ]
  },
  {
   "cell_type": "code",
   "execution_count": 9,
   "metadata": {},
   "outputs": [
    {
     "name": "stderr",
     "output_type": "stream",
     "text": [
      "Filter: 100%|██████████| 130319/130319 [00:02<00:00, 49104.15 examples/s]\n",
      "Filter: 100%|██████████| 11873/11873 [00:00<00:00, 44322.84 examples/s]\n"
     ]
    },
    {
     "data": {
      "text/plain": [
       "DatasetDict({\n",
       "    train: Dataset({\n",
       "        features: ['id', 'title', 'context', 'question', 'answers'],\n",
       "        num_rows: 86821\n",
       "    })\n",
       "    validation: Dataset({\n",
       "        features: ['id', 'title', 'context', 'question', 'answers'],\n",
       "        num_rows: 5928\n",
       "    })\n",
       "})"
      ]
     },
     "execution_count": 9,
     "metadata": {},
     "output_type": "execute_result"
    }
   ],
   "source": [
    "raw_datasets.filter(lambda x: len(x['answers']['text']) > 0)"
   ]
  },
  {
   "cell_type": "markdown",
   "metadata": {},
   "source": [
    "## Setup model"
   ]
  },
  {
   "cell_type": "code",
   "execution_count": 11,
   "metadata": {},
   "outputs": [],
   "source": [
    "MODEL_NAME = \"distilbert-base-uncased\"\n",
    "tokenizer = AutoTokenizer.from_pretrained(MODEL_NAME)\n",
    "model = AutoModel.from_pretrained(MODEL_NAME).to(device)"
   ]
  },
  {
   "cell_type": "markdown",
   "metadata": {},
   "source": [
    "## Get embedding vector"
   ]
  },
  {
   "cell_type": "code",
   "execution_count": null,
   "metadata": {},
   "outputs": [
    {
     "name": "stdout",
     "output_type": "stream",
     "text": [
      "{'input_ids': [[101, 2023, 2003, 1037, 2200, 2146, 6251, 1012, 102, 0, 0, 0, 0, 0, 0]], 'attention_mask': [[1, 1, 1, 1, 1, 1, 1, 1, 1, 0, 0, 0, 0, 0, 0]]}\n",
      "length inputs_id:  1\n",
      "[None, 0, 0, 0, 0, 0, 0, 0, None, None, None, None, None, None, None]\n",
      "[CLS] this is a very long sentence. [SEP] [PAD] [PAD] [PAD] [PAD] [PAD] [PAD]\n"
     ]
    }
   ],
   "source": [
    "# Test tokenizer\n",
    "text1 = [\"This is a very long sentence.\",\n",
    "         \"This is a very long sentence.\"]  # Dài hơn max_length\n",
    "text2 = \"Beyoncé Giselle Knowles-Carter (/biːˈjɒnseɪ/ bee-YON-say) (born September 4, 1981).\"\n",
    "\n",
    "tokens = tokenizer(\n",
    "    text1,\n",
    "    max_length=15,\n",
    "    stride=2,\n",
    "    truncation=True, \n",
    "    padding=\"max_length\"\n",
    "    )\n",
    "print(tokens)\n",
    "print(\"length inputs_id: \", len(tokens['input_ids']))\n",
    "print(tokens.sequence_ids())\n",
    "print(tokenizer.decode(tokens['input_ids'][0]))"
   ]
  },
  {
   "cell_type": "code",
   "execution_count": 37,
   "metadata": {},
   "outputs": [],
   "source": [
    "# lấy embeddim của cls tokens để lưu vào vector db\n",
    "def get_cls_from_hidden(model_output):\n",
    "    cls_token = model_output.last_hidden_state[:,0]\n",
    "    return cls_token"
   ]
  },
  {
   "cell_type": "code",
   "execution_count": 38,
   "metadata": {},
   "outputs": [],
   "source": [
    "def get_embeddings(text_list):\n",
    "    tokens_list = tokenizer(\n",
    "        text_list,\n",
    "        max_length=15,\n",
    "        stride=2,\n",
    "        truncation=True,\n",
    "        padding=\"max_length\",\n",
    "        return_tensors='pt'\n",
    "    )\n",
    "    encoded_token = {k:v.to(device) for k, v in tokens_list.items()}\n",
    "    model_output = model(**encoded_token)\n",
    "    \n",
    "    cls_tokens = get_cls_from_hidden(model_output)\n",
    "    return cls_tokens"
   ]
  },
  {
   "cell_type": "code",
   "execution_count": 39,
   "metadata": {},
   "outputs": [
    {
     "data": {
      "text/plain": [
       "torch.Size([1, 768])"
      ]
     },
     "execution_count": 39,
     "metadata": {},
     "output_type": "execute_result"
    }
   ],
   "source": [
    "model_output = get_embeddings(text1).size()\n",
    "model_output"
   ]
  },
  {
   "cell_type": "markdown",
   "metadata": {},
   "source": [
    "## Build vector database"
   ]
  },
  {
   "cell_type": "code",
   "execution_count": 58,
   "metadata": {},
   "outputs": [
    {
     "name": "stderr",
     "output_type": "stream",
     "text": [
      "Map: 100%|██████████| 1000/1000 [00:22<00:00, 44.77 examples/s]\n",
      "100%|██████████| 1/1 [00:00<00:00, 181.56it/s]\n"
     ]
    },
    {
     "data": {
      "text/plain": [
       "Dataset({\n",
       "    features: ['id', 'title', 'context', 'question', 'answers', 'question_embedding'],\n",
       "    num_rows: 1000\n",
       "})"
      ]
     },
     "execution_count": 58,
     "metadata": {},
     "output_type": "execute_result"
    }
   ],
   "source": [
    "# Define the name for the new embedding column\n",
    "EMBEDDING_COLUMN = 'question_embedding'\n",
    "subset = raw_datasets['train'].select(range(1000))\n",
    "embeddings_dataset = subset.map(\n",
    "    lambda x: {\n",
    "        EMBEDDING_COLUMN: get_embeddings(\n",
    "            x['question']\n",
    "        ).detach().cpu().numpy()[0]\n",
    "    }\n",
    ")\n",
    "embeddings_dataset.add_faiss_index(column=EMBEDDING_COLUMN)"
   ]
  },
  {
   "cell_type": "code",
   "execution_count": 59,
   "metadata": {},
   "outputs": [
    {
     "name": "stdout",
     "output_type": "stream",
     "text": [
      "Top 1\tScore: 0.0\n",
      "Question: When did Beyonce start becoming popular?\n",
      "Context: Beyoncé Giselle Knowles-Carter (/biːˈjɒnseɪ/ bee-YON-say) (born September 4, 1981) is an American singer, songwriter, record producer and actress. Born and raised in Houston, Texas, she performed in various singing and dancing competitions as a child, and rose to fame in the late 1990s as lead singer of R&B girl-group Destiny's Child. Managed by her father, Mathew Knowles, the group became one of the world's best-selling girl groups of all time. Their hiatus saw the release of Beyoncé's debut album, Dangerously in Love (2003), which established her as a solo artist worldwide, earned five Grammy Awards and featured the Billboard Hot 100 number-one singles \"Crazy in Love\" and \"Baby Boy\".\n",
      "\n",
      "Top 2\tScore: 2.6135406494140625\n",
      "Question: When did Beyoncé rise to fame?\n",
      "Context: Beyoncé Giselle Knowles-Carter (/biːˈjɒnseɪ/ bee-YON-say) (born September 4, 1981) is an American singer, songwriter, record producer and actress. Born and raised in Houston, Texas, she performed in various singing and dancing competitions as a child, and rose to fame in the late 1990s as lead singer of R&B girl-group Destiny's Child. Managed by her father, Mathew Knowles, the group became one of the world's best-selling girl groups of all time. Their hiatus saw the release of Beyoncé's debut album, Dangerously in Love (2003), which established her as a solo artist worldwide, earned five Grammy Awards and featured the Billboard Hot 100 number-one singles \"Crazy in Love\" and \"Baby Boy\".\n",
      "\n",
      "Top 3\tScore: 4.859492301940918\n",
      "Question: When did Beyoncé release Formation?\n",
      "Context: On February 6, 2016, one day before her performance at the Super Bowl, Beyoncé released a new single exclusively on music streaming service Tidal called \"Formation\".\n",
      "\n",
      "Top 4\tScore: 5.054234504699707\n",
      "Question: In which decade did Beyonce become famous?\n",
      "Context: Beyoncé Giselle Knowles-Carter (/biːˈjɒnseɪ/ bee-YON-say) (born September 4, 1981) is an American singer, songwriter, record producer and actress. Born and raised in Houston, Texas, she performed in various singing and dancing competitions as a child, and rose to fame in the late 1990s as lead singer of R&B girl-group Destiny's Child. Managed by her father, Mathew Knowles, the group became one of the world's best-selling girl groups of all time. Their hiatus saw the release of Beyoncé's debut album, Dangerously in Love (2003), which established her as a solo artist worldwide, earned five Grammy Awards and featured the Billboard Hot 100 number-one singles \"Crazy in Love\" and \"Baby Boy\".\n",
      "\n",
      "Top 5\tScore: 5.170375823974609\n",
      "Question: When did Beyonce begin her deals with name brands?\n",
      "Context: The release of a video-game Starpower: Beyoncé was cancelled after Beyoncé pulled out of a $100 million with GateFive who alleged the cancellation meant the sacking of 70 staff and millions of pounds lost in development. It was settled out of court by her lawyers in June 2013 who said that they had cancelled because GateFive had lost its financial backers. Beyoncé also has had deals with American Express, Nintendo DS and L'Oréal since the age of 18.\n",
      "\n"
     ]
    }
   ],
   "source": [
    "input_question = 'When did Beyonce start becoming popular ?'\n",
    "\n",
    "input_quest_embedding = get_embeddings([input_question])\n",
    "input_quest_embedding = input_quest_embedding.cpu().detach().numpy()\n",
    "\n",
    "TOP_K = 5\n",
    "scores, samples = embeddings_dataset.get_nearest_examples(\n",
    "    EMBEDDING_COLUMN, input_quest_embedding, k=TOP_K\n",
    ")\n",
    "\n",
    "for idx, score in enumerate(scores):\n",
    "    print(f'Top {idx + 1}\\tScore: {score}')\n",
    "    print(f'Question: {samples[\"question\"][idx]}')\n",
    "    print(f'Context: {samples[\"context\"][idx]}')\n",
    "    print()"
   ]
  }
 ],
 "metadata": {
  "kernelspec": {
   "display_name": "AIOEx",
   "language": "python",
   "name": "python3"
  },
  "language_info": {
   "codemirror_mode": {
    "name": "ipython",
    "version": 3
   },
   "file_extension": ".py",
   "mimetype": "text/x-python",
   "name": "python",
   "nbconvert_exporter": "python",
   "pygments_lexer": "ipython3",
   "version": "3.10.15"
  }
 },
 "nbformat": 4,
 "nbformat_minor": 2
}
